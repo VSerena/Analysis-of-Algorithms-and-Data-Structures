{
 "cells": [
  {
   "cell_type": "markdown",
   "id": "147d1cba-28dd-4f22-8de9-636bf6f8a626",
   "metadata": {},
   "source": [
    "# Progetto di Analisys of Algrithms and Data Structures - a.a 2022/2023\n",
    "\n",
    "Autori: \n",
    "\n",
    "- *Magrini Roberto* roberto.magrini@stud.unifi.it\n",
    "\n",
    "- *Serena Vannacci* 7030223 serena.vannacci@stud.unifi.it\n",
    "\n",
    "## Obiettivo \n",
    "\n",
    "L'obiettivo di questo progetto è l'analisi degli Skew Dyck Paths, attraverso la verifica di alcuni risultati che li riguardano, sulla base dell'articolo: \"Skew Dyck Paths Having no Peaks at Level 1\" di Helmut Prodinger (Stellenbosch University, Department of Mathematical Sciences, South Africa) e NITheCS.\n",
    "\n",
    "## Introduzione\n",
    "\n",
    "Nell'articolo scelto si approfondisce una classe particolare di percorsi combinatori, conosciuti come percorsi di Skew Dyck, che rappresentano una variante dei percorsi di Dyck standard. Tali percorsi possono essere visualizzati come una serie di spostamenti in un piano cartesiano, dove (1, 1) indica uno spostamento verso l'alto e verso destra, (1, -1) uno spostamento verso l'alto e verso sinistra e (-1, -1) uno spostamento verso il basso e verso sinistra, ovvero il passo che li differenzia dai percorsi di Dyck standard. Un'ulteriore caratteristica dei percorsi di Skew Dyck è che essi non devono intersecarsi con se stessi, ciò significa che il percorso non può attraversare o sovrapporsi alle sue stesse tracce.\n",
    "\n",
    "Rimpiazzando il passo caratteristico dei percorsi di Skew Dyck col passo (1, -1), colorato di rosso, otterremo un Decoreted Dyck Path. Nel paper verranno studiati scenari legati a questa tipologia di percorsi decorati, i quali però non presentano picchi al livello 1.\n"
   ]
  },
  {
   "cell_type": "markdown",
   "id": "5ff4fffd-fcdf-499e-b9da-0cc294770d7a",
   "metadata": {},
   "source": [
    "# Kernel Method\n",
    "\n",
    "In questa parte vengono ricavate le funzioni generatrici per i vari cammini che terminano in un certo livello.\n",
    "Utilizzando l'esempio riportato sul paper avremo tre layers (strati) di stati, che variano da zero ad infinito, questi layers sono chiamati \n",
    "\n",
    "$$f_{j},  g_{j},  h_{j}$$\n",
    "\n",
    "uno Skew Dyck Path che termina al livello *j* si calcola con \n",
    "\n",
    "$$s_{j} = f_{j} + g_{j} + h_{j}$$\n",
    "\n",
    "Dal diagramma rappresenato nel paper si ricavano le seguenti ricorsioni: \n",
    "\n",
    "$$f_{0} = 0, \\; f_{i+1} = zf_{i} + zg_{i}, \\; con \\: i \\ge 0$$\n",
    "$$g_{0}  = zg_{1} + zh_{1}, \\; g_{i} = zf_{i+1} + zg_{i+1} + zh_{i+1}, \\; con \\: i \\ge 1$$\n",
    "$$h_{i} = zg_{i+1} + zh_{i+1}, \\; con \\: i \\ge 0$$\n",
    "\n",
    "Da queste equazioni possiamo ricavare le funzioni generatrici bivariate:\n",
    "\n",
    "$$F(z,u) = \\sum_{i\\ge0}f_{i}(z)u^{i}, \\; G(z,u) = \\sum_{i\\ge0}g_{i}(z)u^{i}, \\; H(z,u) = \\sum_{i\\ge0}h_{i}(z)u^{i}$$\n",
    "\n",
    "Ora sostituendo le funzioni generatrici bivariate all ricorsioni trovate in precedenza e riscrivendole in maniera appropriata, otteniamo che:\n",
    "\n",
    "$$\\frac{1}{u}(F(u) - 1) = zF(u) + zG(u)$$\n",
    "$$G(u) = \\frac{z}{u}(F(u) - f_{0} - uf_{1}) + \\frac{z}{u}(G(u) - g_{0}) + \\frac{z}{u}(H(u) - h_{0})$$\n",
    "$$H(u) = \\frac{z}{u}(G(u) - g_{0}) + \\frac{z}{u}(H(u) - h_{0})$$\n",
    "\n",
    "Se ora risolviamo queste equazioni utilizzando G(u) come variabile, otteniamo le premesse del primo teorema, ovvero che\n",
    "\n",
    "$$F = \\frac{1 + zuG}{1 - zu}$$\n",
    "\n",
    "$$H = \\frac{z(G - 2g_{0})}{u - z}$$\n",
    "\n",
    "$$G = \\frac{-z^{3}(u - z + r_{2}) - z^{2}(-z^{2} +zu +1 +zr_{2})g_{0}}{z(u - r_{1})}$$\n",
    "\n",
    "con\n",
    "\n",
    "$$r_{1} = \\frac{1 + z^{2} + \\sqrt{1 - 6z^{2} + 5z^{4}}}{2z}$$\n",
    "\n",
    "$$r_{2} = \\frac{1 + z^{2} - \\sqrt{1 - 6z^{2} + 5z^{4}}}{2z}$$\n",
    "\n",
    "$$g_{0} = \\frac{1 - 2z^{4} - 3z^{2} - \\sqrt{1 - 6z^{2} + 5z^{4}}}{2(z^{2} + 3)z^{2}}$$\n"
   ]
  },
  {
   "cell_type": "markdown",
   "id": "2bedef9e",
   "metadata": {},
   "source": [
    "Innanzitutto importiamo alcuni pacchetti che ci saranno utili per il resto del paper:"
   ]
  },
  {
   "cell_type": "code",
   "execution_count": 1,
   "id": "408afe01",
   "metadata": {},
   "outputs": [],
   "source": [
    "from sympy import *\n",
    "from sympy.abc import *\n",
    "init_printing()"
   ]
  },
  {
   "cell_type": "markdown",
   "id": "8957d285",
   "metadata": {},
   "source": [
    "Definiamo i simboli e le funzioni generatrici che utilizzeremo per eseguire le verifiche di alcuni passaggi illustrati nell'articolo:"
   ]
  },
  {
   "cell_type": "code",
   "execution_count": 2,
   "id": "d82cf9ed",
   "metadata": {},
   "outputs": [],
   "source": [
    "z = Symbol(\"z\")\n",
    "u = Symbol(\"u\")\n",
    "F = Function('F')(z,u)\n",
    "G = Function('G')(z,u)\n",
    "H = Function('H')(z,u)\n",
    "f0,f1,g0,h0,s0 = symbols(\"f0,f1,g0,h0,s0\")\n",
    "r1,r2,eq_r1,eq_r2 = symbols(\"r1,r2,eq_r1,eq_r2\")"
   ]
  },
  {
   "cell_type": "markdown",
   "id": "88a24c3f",
   "metadata": {},
   "source": [
    "Come primo passo specifichiamo le condizioni iniziali descritte nell'articolo: \n",
    "$$f_{0} = 1$$\n",
    "$$f_{1} = z + zg_{0}$$\n",
    "$$g_{0} = h_{0}$$"
   ]
  },
  {
   "cell_type": "code",
   "execution_count": 3,
   "id": "8414ff8d",
   "metadata": {},
   "outputs": [],
   "source": [
    "f0 = 1\n",
    "f1 = z + z*g0\n",
    "h0 = g0"
   ]
  },
  {
   "cell_type": "markdown",
   "id": "46c4d5bb",
   "metadata": {},
   "source": [
    "Invece di lavorare con 3 funzioni, possiamo ridurre il sistema ad un'unica equazione (con la variabile G)."
   ]
  },
  {
   "cell_type": "markdown",
   "id": "6285c265",
   "metadata": {},
   "source": [
    "Dall' equazione \n",
    "\n",
    "$$\\frac{1}{u}(F(u)-1) = zF(u) + zG(u)$$\n",
    "\n",
    "dovremmo ricavare:\n",
    "\n",
    "$$ F = \\frac{1 + uzG)}{1 - uz}$$\n",
    "\n",
    "Osservando che il $-1$ del denominatore viene raccolto e moltiplicato all'intera frazione, otteniamo il risultato aspettato:"
   ]
  },
  {
   "cell_type": "code",
   "execution_count": 4,
   "id": "498c37cf",
   "metadata": {},
   "outputs": [
    {
     "data": {
      "image/png": "[encoded data removed]",
      "text/latex": [
       "$\\displaystyle F{\\left(z,u \\right)} = - \\frac{u z G{\\left(z,u \\right)} + 1}{u z - 1}$"
      ],
      "text/plain": [
       "          -(u⋅z⋅G(z, u) + 1) \n",
       "F(z, u) = ───────────────────\n",
       "                u⋅z - 1      "
      ]
     },
     "execution_count": 4,
     "metadata": {},
     "output_type": "execute_result"
    }
   ],
   "source": [
    "Eq_F = (z*F + z*G) - (1/u)*(F - 1)\n",
    "Temp_F = solve(Eq_F, F)\n",
    "Eq(F, collect(Temp_F[0], -1))"
   ]
  },
  {
   "cell_type": "markdown",
   "id": "1cc4c685",
   "metadata": {},
   "source": [
    "Dall' equazione \n",
    "\n",
    "$$H(u) = \\frac{z}{u}(G(u) - g_0) + \\frac{z}{u}(H(u) - h_0)$$\n",
    "\n",
    "dovremmo ricavare:\n",
    "\n",
    "$$H = \\frac{z(G-g_0-h_0)}{u-z}$$\n",
    "\n",
    "Ricordando che \n",
    "\n",
    "$$h_0 = g_0$$ \n",
    "\n",
    "otteniamo il risultato aspettato:"
   ]
  },
  {
   "cell_type": "code",
   "execution_count": 5,
   "id": "b6e54260",
   "metadata": {},
   "outputs": [
    {
     "data": {
      "image/png": "[encoded data removed]",
      "text/latex": [
       "$\\displaystyle H{\\left(z,u \\right)} = \\frac{z \\left(- 2 g_{0} + G{\\left(z,u \\right)}\\right)}{u - z}$"
      ],
      "text/plain": [
       "          z⋅(-2⋅g₀ + G(z, u))\n",
       "H(z, u) = ───────────────────\n",
       "                 u - z       "
      ]
     },
     "execution_count": 5,
     "metadata": {},
     "output_type": "execute_result"
    }
   ],
   "source": [
    "Eq_H = ((z/u)*(G - g0))+((z/u)*(H - h0)) - H\n",
    "Temp_H = solve(Eq_H, H)\n",
    "Eq(H,Temp_H[0])"
   ]
  },
  {
   "cell_type": "markdown",
   "id": "c4516809",
   "metadata": {},
   "source": [
    "Dall'equazione \n",
    "\n",
    "$$G(u) = \\frac{z}{u}(F(u) - f_0 - uf_1) + \\frac{z}{u}(G(u) - g_0) + \\frac{z}{u}(H(u) - h_0)$$\n",
    "\n",
    "dovremmo ricavare:\n",
    "\n",
    "$$G = \\frac{-z^{3}u(u-z)+z(1-zu)(2+zu-z^{2})g_0}{z(u-r_1)(u-r_2)}$$"
   ]
  },
  {
   "cell_type": "code",
   "execution_count": 6,
   "id": "3a6890dd",
   "metadata": {},
   "outputs": [
    {
     "data": {
      "image/png": "[encoded data removed]",
      "text/latex": [
       "$\\displaystyle G{\\left(z,u \\right)} = \\frac{g_{0} \\left(u^{2} z^{3} - u z^{4} + u z^{2} + z^{3} - 2 z\\right) + u z^{3} \\left(u - z\\right)}{- u^{2} z + u z^{2} + u + z^{3} - 2 z}$"
      ],
      "text/plain": [
       "             ⎛ 2  3      4      2    3      ⎞      3        \n",
       "          g₀⋅⎝u ⋅z  - u⋅z  + u⋅z  + z  - 2⋅z⎠ + u⋅z ⋅(u - z)\n",
       "G(z, u) = ──────────────────────────────────────────────────\n",
       "                        2        2        3                 \n",
       "                     - u ⋅z + u⋅z  + u + z  - 2⋅z           "
      ]
     },
     "execution_count": 6,
     "metadata": {},
     "output_type": "execute_result"
    }
   ],
   "source": [
    "Eq_G = ( ((z/u)*(F - f0 - u*f1)) + ((z/u)*(G - g0)) + ((z/u)*(H - h0)) ) - G\n",
    "Eq_G_subs = Eq_G.subs({H: Temp_H[0], F: Temp_F[0]})\n",
    "Temp_G = solve(Eq_G_subs, G)\n",
    "Eq(G,collect(cancel(Temp_G[0]), [g0, (u*z**3)])) "
   ]
  },
  {
   "cell_type": "markdown",
   "id": "9d557af2",
   "metadata": {},
   "source": [
    "\n",
    "Per ricavare $r_1$ e $r_2$ risolviamo il denominatore rispetto alla variabile *u* :\n"
   ]
  },
  {
   "cell_type": "code",
   "execution_count": 7,
   "id": "9aab4bd4",
   "metadata": {},
   "outputs": [
    {
     "data": {
      "image/png": "[encoded data removed]",
      "text/latex": [
       "$\\displaystyle \\left( \\frac{z^{2} + \\sqrt{5 z^{4} - 6 z^{2} + 1} + 1}{2 z}, \\  \\frac{z^{2} - \\sqrt{5 z^{4} - 6 z^{2} + 1} + 1}{2 z}\\right)$"
      ],
      "text/plain": [
       "⎛        _________________              _________________    ⎞\n",
       "⎜ 2     ╱    4      2            2     ╱    4      2         ⎟\n",
       "⎜z  + ╲╱  5⋅z  - 6⋅z  + 1  + 1  z  - ╲╱  5⋅z  - 6⋅z  + 1  + 1⎟\n",
       "⎜─────────────────────────────, ─────────────────────────────⎟\n",
       "⎝             2⋅z                            2⋅z             ⎠"
      ]
     },
     "execution_count": 7,
     "metadata": {},
     "output_type": "execute_result"
    }
   ],
   "source": [
    "Num, Dem = fraction(collect(cancel(Temp_G[0]), [g0, u*z**3]))\n",
    "Temp_Dem = solve(Dem, u)\n",
    "eq_r1 = Temp_Dem[1]\n",
    "eq_r2 = Temp_Dem[0]\n",
    "eq_r1, eq_r2"
   ]
  },
  {
   "cell_type": "markdown",
   "id": "de96560f",
   "metadata": {},
   "source": [
    "Otteniamo $G(u)$ nella forma:"
   ]
  },
  {
   "cell_type": "code",
   "execution_count": 8,
   "id": "ce529a52",
   "metadata": {},
   "outputs": [
    {
     "data": {
      "image/png": "[encoded data removed]",
      "text/latex": [
       "$\\displaystyle G{\\left(z,u \\right)} = \\frac{g_{0} \\left(u^{2} z^{3} - u z^{4} + u z^{2} + z^{3} - 2 z\\right) + u z^{3} \\left(u - z\\right)}{z \\left(u - \\frac{z^{2} - \\sqrt{5 z^{4} - 6 z^{2} + 1} + 1}{2 z}\\right) \\left(u - \\frac{z^{2} + \\sqrt{5 z^{4} - 6 z^{2} + 1} + 1}{2 z}\\right)}$"
      ],
      "text/plain": [
       "                         ⎛ 2  3      4      2    3      ⎞      3              \n",
       "                      g₀⋅⎝u ⋅z  - u⋅z  + u⋅z  + z  - 2⋅z⎠ + u⋅z ⋅(u - z)      \n",
       "G(z, u) = ────────────────────────────────────────────────────────────────────\n",
       "            ⎛            _________________    ⎞ ⎛            _________________\n",
       "            ⎜     2     ╱    4      2         ⎟ ⎜     2     ╱    4      2     \n",
       "            ⎜    z  - ╲╱  5⋅z  - 6⋅z  + 1  + 1⎟ ⎜    z  + ╲╱  5⋅z  - 6⋅z  + 1 \n",
       "          z⋅⎜u - ─────────────────────────────⎟⋅⎜u - ─────────────────────────\n",
       "            ⎝                 2⋅z             ⎠ ⎝                 2⋅z         \n",
       "\n",
       "     \n",
       "     \n",
       "─────\n",
       "    ⎞\n",
       "    ⎟\n",
       " + 1⎟\n",
       "────⎟\n",
       "    ⎠"
      ]
     },
     "execution_count": 8,
     "metadata": {},
     "output_type": "execute_result"
    }
   ],
   "source": [
    "EqG = Num / (z*(u-eq_r1)*(u-eq_r2))\n",
    "Eq(G,EqG)"
   ]
  },
  {
   "cell_type": "markdown",
   "id": "d9fc41e7",
   "metadata": {},
   "source": [
    "Appunto degli autori: I seguenti passaggi dovrebbero essere descritti in modo più chiaro all'interno dell'articolo"
   ]
  },
  {
   "cell_type": "markdown",
   "id": "b542df4d",
   "metadata": {},
   "source": [
    "Si nota che \n",
    "\n",
    "$$ r1r2 = 2 − z^{2}$$\n"
   ]
  },
  {
   "cell_type": "code",
   "execution_count": 9,
   "id": "6fc92bfb",
   "metadata": {},
   "outputs": [
    {
     "data": {
      "image/png": "[encoded data removed]",
      "text/latex": [
       "$\\displaystyle u^{2} - u z - \\frac{u}{z} - z^{2} + 2$"
      ],
      "text/plain": [
       " 2         u    2    \n",
       "u  - u⋅z - ─ - z  + 2\n",
       "           z         "
      ]
     },
     "execution_count": 9,
     "metadata": {},
     "output_type": "execute_result"
    }
   ],
   "source": [
    "((u-eq_r1)*(u-eq_r2)).expand()"
   ]
  },
  {
   "cell_type": "markdown",
   "id": "078296d3",
   "metadata": {},
   "source": [
    "Per una maggiore evidenza della correttezza di tale risultato:"
   ]
  },
  {
   "cell_type": "code",
   "execution_count": 10,
   "id": "9592c6ba",
   "metadata": {},
   "outputs": [
    {
     "data": {
      "image/png": "[encoded data removed]",
      "text/latex": [
       "$\\displaystyle 2 - z^{2}$"
      ],
      "text/plain": [
       "     2\n",
       "2 - z "
      ]
     },
     "execution_count": 10,
     "metadata": {},
     "output_type": "execute_result"
    }
   ],
   "source": [
    "cancel(eq_r1*eq_r2)"
   ]
  },
  {
   "cell_type": "markdown",
   "id": "b6ef5083",
   "metadata": {},
   "source": [
    "Poiché il fattore \n",
    "\n",
    "$$u − r2$$\n",
    "\n",
    "nel denominatore è \"sbagliato\", deve anche annullarsi nel numeratore. Ciò porta alla nuova versione:\n",
    "\n",
    "$$G = \\frac{-z^{3}(u − z + r_2) − z^{2}(−z^{2} + zu + 1 + zr_2)g_0}{z(u − r_1)}$$\n"
   ]
  },
  {
   "cell_type": "code",
   "execution_count": 11,
   "id": "78ddcad1",
   "metadata": {},
   "outputs": [
    {
     "data": {
      "image/png": "[encoded data removed]",
      "text/latex": [
       "$\\displaystyle G{\\left(z,u \\right)} = \\frac{- g_{0} z^{2} \\left(r_{2} z + u z - z^{2} + 1\\right) - z^{3} \\left(r_{2} + u - z\\right)}{z \\left(- r_{1} + u\\right)}$"
      ],
      "text/plain": [
       "                2 ⎛              2    ⎞    3             \n",
       "          - g₀⋅z ⋅⎝r₂⋅z + u⋅z - z  + 1⎠ - z ⋅(r₂ + u - z)\n",
       "G(z, u) = ───────────────────────────────────────────────\n",
       "                            z⋅(-r₁ + u)                  "
      ]
     },
     "execution_count": 11,
     "metadata": {},
     "output_type": "execute_result"
    }
   ],
   "source": [
    "Eq_G_final =  ((-z**3)*(u-z+r2) - z**2*(-z**2 +z*u +1 +z*r2)*g0 ) / (z*(u-r1))\n",
    "Eq(G, Eq_G_final)"
   ]
  },
  {
   "cell_type": "markdown",
   "id": "decc47e3",
   "metadata": {},
   "source": [
    "\n",
    "Dobbiamo ora trovare il valore di $g_0$, notiamo, ora, che ponendo $u = 0$ si ha $G(z,0) = g_{0}$. \n"
   ]
  },
  {
   "cell_type": "code",
   "execution_count": 12,
   "id": "8fc60989",
   "metadata": {},
   "outputs": [
    {
     "data": {
      "image/png": "[encoded data removed]",
      "text/latex": [
       "$\\displaystyle G{\\left(z,0 \\right)} = - \\frac{- g_{0} z^{2} \\left(r_{2} z - z^{2} + 1\\right) - z^{3} \\left(r_{2} - z\\right)}{r_{1} z}$"
      ],
      "text/plain": [
       "           ⎛      2 ⎛        2    ⎞    3         ⎞ \n",
       "          -⎝- g₀⋅z ⋅⎝r₂⋅z - z  + 1⎠ - z ⋅(r₂ - z)⎠ \n",
       "G(z, 0) = ─────────────────────────────────────────\n",
       "                             r₁⋅z                  "
      ]
     },
     "execution_count": 12,
     "metadata": {},
     "output_type": "execute_result"
    }
   ],
   "source": [
    "Eq_G0 = collect(Eq_G_final.subs(u,0),[g0])\n",
    "Eq( G.subs(u,0) , Eq_G0 )"
   ]
  },
  {
   "cell_type": "markdown",
   "id": "634442ab",
   "metadata": {},
   "source": [
    "\n",
    "Quindi risolvendo l'equazione per  $g_0$ si ottiene:\n"
   ]
  },
  {
   "cell_type": "code",
   "execution_count": 13,
   "id": "e6010423-3f9b-46a5-95dc-e3553bc75d9d",
   "metadata": {},
   "outputs": [
    {
     "data": {
      "image/png": "[encoded data removed]",
      "text/latex": [
       "$\\displaystyle g_{0} = \\frac{- 2 z^{4} - 3 z^{2} - \\sqrt{5 z^{4} - 6 z^{2} + 1} + 1}{2 z^{2} \\left(z^{2} + 3\\right)}$"
      ],
      "text/plain": [
       "                        _________________    \n",
       "          4      2     ╱    4      2         \n",
       "     - 2⋅z  - 3⋅z  - ╲╱  5⋅z  - 6⋅z  + 1  + 1\n",
       "g₀ = ────────────────────────────────────────\n",
       "                     2 ⎛ 2    ⎞              \n",
       "                  2⋅z ⋅⎝z  + 3⎠              "
      ]
     },
     "execution_count": 13,
     "metadata": {},
     "output_type": "execute_result"
    }
   ],
   "source": [
    "eq_g0 = (1 - 2*(z**4) - 3*(z**2) - sqrt(1 - 6*(z**2) + 5*(z**4)))/(2*(z**2)*((z**2) + 3))\n",
    "Eq( g0 , collect ( cancel(eq_g0) , [2*z**2] ))"
   ]
  },
  {
   "cell_type": "markdown",
   "id": "63f8b732-cf3f-49f9-aa21-60f763824fa0",
   "metadata": {},
   "source": [
    "## Teorema 1"
   ]
  },
  {
   "cell_type": "markdown",
   "id": "b3649a0e",
   "metadata": {},
   "source": [
    "Le tre funzioni generatrici bivariate che descrivono i percorsi decorati che terminano nei tre rispettivi strati sono date da:\n",
    "\n",
    "$$G = \\frac{-z^{3}(u − z + r_2) − z^{2}(−z^{2} + zu + 1 + zr_2)g_0}{z(u − r_1)}$$\n",
    "\n",
    "$$ H(u) = \\frac{z(−2g_0+ G(u))}{u-z}$$\n",
    "\n",
    "$$ F(u) = \\frac{1 + zuG(u))}{1 - zu}$$"
   ]
  },
  {
   "cell_type": "markdown",
   "id": "43e168c2",
   "metadata": {},
   "source": [
    "Poniamo $u=0$, considerando i percorsi che terminano sull'asse x:"
   ]
  },
  {
   "cell_type": "markdown",
   "id": "f35147d0",
   "metadata": {},
   "source": [
    "$F(z,0)$ corrisponde effettivamente a $f_0 = 1$"
   ]
  },
  {
   "cell_type": "code",
   "execution_count": 14,
   "id": "c19df285",
   "metadata": {},
   "outputs": [
    {
     "data": {
      "image/png": "[encoded data removed]",
      "text/latex": [
       "$\\displaystyle 1$"
      ],
      "text/plain": [
       "1"
      ]
     },
     "execution_count": 14,
     "metadata": {},
     "output_type": "execute_result"
    }
   ],
   "source": [
    "F0 = Temp_F[0].subs(u, 0)\n",
    "F0"
   ]
  },
  {
   "cell_type": "markdown",
   "id": "1ebf0efb",
   "metadata": {},
   "source": [
    "$H(z,0)$ corrisponde a $h_0 = g_0$"
   ]
  },
  {
   "cell_type": "code",
   "execution_count": 15,
   "id": "8164ea13",
   "metadata": {},
   "outputs": [
    {
     "data": {
      "image/png": "[encoded data removed]",
      "text/latex": [
       "$\\displaystyle g_{0}$"
      ],
      "text/plain": [
       "g₀"
      ]
     },
     "execution_count": 15,
     "metadata": {},
     "output_type": "execute_result"
    }
   ],
   "source": [
    "H0 = (Temp_H[0].subs(G, g0)).subs(u, 0)\n",
    "H0"
   ]
  },
  {
   "cell_type": "markdown",
   "id": "942d81d4",
   "metadata": {},
   "source": [
    "Abbiamo verificato ai passi precedenti che $G(z,0) = g_0$"
   ]
  },
  {
   "cell_type": "markdown",
   "id": "a30914a2",
   "metadata": {},
   "source": [
    "Risolviamo la seguente equazione:\n",
    "\n",
    "$$ s_0 = f_0 + g_0 + h_0 = F(z,0) + H(z,0) + G(z,0) $$\n"
   ]
  },
  {
   "cell_type": "code",
   "execution_count": 16,
   "id": "5edd4242-d79f-44de-8e4a-5c0c6fb5fb52",
   "metadata": {},
   "outputs": [
    {
     "data": {
      "image/png": "[encoded data removed]",
      "text/latex": [
       "$\\displaystyle s_{0} = \\frac{- z^{4} - \\sqrt{5 z^{4} - 6 z^{2} + 1} + 1}{z^{2} \\left(z^{2} + 3\\right)}$"
      ],
      "text/plain": [
       "               _________________    \n",
       "        4     ╱    4      2         \n",
       "     - z  - ╲╱  5⋅z  - 6⋅z  + 1  + 1\n",
       "s₀ = ───────────────────────────────\n",
       "                2 ⎛ 2    ⎞          \n",
       "               z ⋅⎝z  + 3⎠          "
      ]
     },
     "execution_count": 16,
     "metadata": {},
     "output_type": "execute_result"
    }
   ],
   "source": [
    "Eq_s0 = simplify((F0 + H0 + g0).subs(g0, eq_g0))\n",
    "Eq(s0, Eq_s0)"
   ]
  },
  {
   "cell_type": "markdown",
   "id": "6a434e07",
   "metadata": {},
   "source": [
    "## La congettura"
   ]
  },
  {
   "cell_type": "markdown",
   "id": "200dbfd6",
   "metadata": {},
   "source": [
    "Poiché gli skew paths devono avere un numero di passi pari poniamo $z^2 = x$"
   ]
  },
  {
   "cell_type": "code",
   "execution_count": 17,
   "id": "046fa1a7-a04e-4118-a050-d96a46839139",
   "metadata": {},
   "outputs": [
    {
     "data": {
      "image/png": "[encoded data removed]",
      "text/latex": [
       "$\\displaystyle \\frac{- x^{2} - \\sqrt{5 x^{2} - 6 x + 1} + 1}{x \\left(x + 3\\right)}$"
      ],
      "text/plain": [
       "          ________________    \n",
       "   2     ╱    2               \n",
       "- x  - ╲╱  5⋅x  - 6⋅x + 1  + 1\n",
       "──────────────────────────────\n",
       "          x⋅(x + 3)           "
      ]
     },
     "execution_count": 17,
     "metadata": {},
     "output_type": "execute_result"
    }
   ],
   "source": [
    "y = Function('y')(x)\n",
    "y = simplify(Eq_s0.subs(z**2,x))\n",
    "y"
   ]
  },
  {
   "cell_type": "markdown",
   "id": "d7a1c431",
   "metadata": {},
   "source": [
    "Tale funzione generatrice genera la sequenza del numero di cammini di Dyck inclinati di semilunghezza $n$ senza picchi al livello 1"
   ]
  },
  {
   "cell_type": "code",
   "execution_count": 18,
   "id": "3eb69e5f-24c5-4525-858c-c8a90947d887",
   "metadata": {},
   "outputs": [
    {
     "data": {
      "image/png": "[encoded data removed]",
      "text/latex": [
       "$\\displaystyle 1 + 2 t^{2} + 6 t^{3} + 22 t^{4} + 84 t^{5} + 334 t^{6} + 1368 t^{7} + 5734 t^{8} + 24480 t^{9} + 106086 t^{10} + 465462 t^{11} + 2063658 t^{12} + 9231084 t^{13} + 41610162 t^{14} + O\\left(t^{15}\\right)$"
      ],
      "text/plain": [
       "       2      3       4       5        6         7         8          9       \n",
       "1 + 2⋅t  + 6⋅t  + 22⋅t  + 84⋅t  + 334⋅t  + 1368⋅t  + 5734⋅t  + 24480⋅t  + 1060\n",
       "\n",
       "    10           11            12            13             14    ⎛ 15⎞\n",
       "86⋅t   + 465462⋅t   + 2063658⋅t   + 9231084⋅t   + 41610162⋅t   + O⎝t  ⎠"
      ]
     },
     "execution_count": 18,
     "metadata": {},
     "output_type": "execute_result"
    }
   ],
   "source": [
    "serie_y = y.subs(x,t)\n",
    "series(serie_y,t,0,15)"
   ]
  },
  {
   "cell_type": "markdown",
   "id": "8828cd36-e073-4eee-981f-03d16d035fe3",
   "metadata": {},
   "source": [
    "I valori ottenuti corrispondono a quelli mostrati nell'articolo. "
   ]
  },
  {
   "cell_type": "markdown",
   "id": "a5a07968",
   "metadata": {},
   "source": [
    "## Partial paths "
   ]
  },
  {
   "cell_type": "markdown",
   "id": "8f9d0f3b",
   "metadata": {},
   "source": [
    "Si verifica la seguente equazione:"
   ]
  },
  {
   "cell_type": "markdown",
   "id": "94ece62c",
   "metadata": {},
   "source": [
    "$$S(z, u) = F(z, u) + G(z, u) + H(z, u) = \\frac{−z^4 − z^4g_0 − z^2g_0 + z^2 − 1}{z(u − r_1)}$$\n"
   ]
  },
  {
   "cell_type": "markdown",
   "id": "3bcc47ab",
   "metadata": {},
   "source": [
    "Per tale scopo si realizzano le seguenti sostituzioni:"
   ]
  },
  {
   "cell_type": "code",
   "execution_count": 19,
   "id": "d94fb411",
   "metadata": {},
   "outputs": [
    {
     "data": {
      "image/png": "[encoded data removed]",
      "text/latex": [
       "$\\displaystyle \\frac{- g_{0} r_{2} u z^{3} - g_{0} u^{2} z^{3} + g_{0} u z^{4} - g_{0} u z^{2} - r_{1} - r_{2} u z^{3} - u^{2} z^{3} + u z^{4} + u}{r_{1} u z - r_{1} - u^{2} z + u}$"
      ],
      "text/plain": [
       "           3       2  3         4         2              3    2  3      4    \n",
       "- g₀⋅r₂⋅u⋅z  - g₀⋅u ⋅z  + g₀⋅u⋅z  - g₀⋅u⋅z  - r₁ - r₂⋅u⋅z  - u ⋅z  + u⋅z  + u\n",
       "─────────────────────────────────────────────────────────────────────────────\n",
       "                                           2                                 \n",
       "                            r₁⋅u⋅z - r₁ - u ⋅z + u                           "
      ]
     },
     "execution_count": 19,
     "metadata": {},
     "output_type": "execute_result"
    }
   ],
   "source": [
    "partial_F = cancel(Temp_F[0].subs(G,Eq_G_final))\n",
    "partial_F"
   ]
  },
  {
   "cell_type": "code",
   "execution_count": 20,
   "id": "c9732cce",
   "metadata": {},
   "outputs": [
    {
     "data": {
      "image/png": "[encoded data removed]",
      "text/latex": [
       "$\\displaystyle \\frac{2 g_{0} r_{1} z - g_{0} r_{2} z^{3} - g_{0} u z^{3} - 2 g_{0} u z + g_{0} z^{4} - g_{0} z^{2} - r_{2} z^{3} - u z^{3} + z^{4}}{- r_{1} u + r_{1} z + u^{2} - u z}$"
      ],
      "text/plain": [
       "                   3         3                  4       2       3      3    4\n",
       "2⋅g₀⋅r₁⋅z - g₀⋅r₂⋅z  - g₀⋅u⋅z  - 2⋅g₀⋅u⋅z + g₀⋅z  - g₀⋅z  - r₂⋅z  - u⋅z  + z \n",
       "─────────────────────────────────────────────────────────────────────────────\n",
       "                                           2                                 \n",
       "                           -r₁⋅u + r₁⋅z + u  - u⋅z                           "
      ]
     },
     "execution_count": 20,
     "metadata": {},
     "output_type": "execute_result"
    }
   ],
   "source": [
    "partial_H = cancel(Temp_H[0].subs(G,Eq_G_final))\n",
    "partial_H"
   ]
  },
  {
   "cell_type": "code",
   "execution_count": 21,
   "id": "db3275d2",
   "metadata": {},
   "outputs": [
    {
     "data": {
      "image/png": "[encoded data removed]",
      "text/latex": [
       "$\\displaystyle \\frac{g_{0} \\cdot \\left(2 r_{1} u z^{2} - 2 r_{1} z - r_{2} u z^{4} + r_{2} u z^{2} - u^{2} z^{4} - u^{2} z^{2} + u z^{5} - 2 u z^{3} + 3 u z\\right) + r_{1} u - u^{2} + u z^{5} - u z^{3} + z^{4} \\left(- r_{2} u - u^{2}\\right) + z^{2} \\left(r_{2} u + u^{2}\\right) + z \\left(- r_{1} + u\\right)}{r_{1} u - u^{2} + z^{2} \\left(r_{1} u - u^{2}\\right) + z \\left(- r_{1} u^{2} - r_{1} + u^{3} + u\\right)}$"
      ],
      "text/plain": [
       "   ⎛        2                  4         2    2  4    2  2      5        3    \n",
       "g₀⋅⎝2⋅r₁⋅u⋅z  - 2⋅r₁⋅z - r₂⋅u⋅z  + r₂⋅u⋅z  - u ⋅z  - u ⋅z  + u⋅z  - 2⋅u⋅z  + 3\n",
       "──────────────────────────────────────────────────────────────────────────────\n",
       "                                                            2    2 ⎛        2⎞\n",
       "                                                    r₁⋅u - u  + z ⋅⎝r₁⋅u - u ⎠\n",
       "\n",
       "    ⎞           2      5      3    4 ⎛         2⎞    2 ⎛        2⎞            \n",
       "⋅u⋅z⎠ + r₁⋅u - u  + u⋅z  - u⋅z  + z ⋅⎝-r₂⋅u - u ⎠ + z ⋅⎝r₂⋅u + u ⎠ + z⋅(-r₁ + \n",
       "──────────────────────────────────────────────────────────────────────────────\n",
       "     ⎛      2         3    ⎞                                                  \n",
       " + z⋅⎝- r₁⋅u  - r₁ + u  + u⎠                                                  \n",
       "\n",
       "  \n",
       "u)\n",
       "──\n",
       "  \n",
       "  "
      ]
     },
     "execution_count": 21,
     "metadata": {},
     "output_type": "execute_result"
    }
   ],
   "source": [
    "S = Function('S')(u)\n",
    "S = collect( cancel( partial_H + partial_F + Eq_G_final ), [g0, z, u])\n",
    "S"
   ]
  },
  {
   "cell_type": "markdown",
   "id": "4d094f18-63de-4183-b078-cd48858fdd87",
   "metadata": {},
   "source": [
    "## Open-Ended Paths"
   ]
  },
  {
   "cell_type": "markdown",
   "id": "fe8bec28",
   "metadata": {},
   "source": [
    "Possiamo inoltre considerare un qualsiasi livello come livello finale del percorso. In termini di funzioni generatrici, ciò significa considerare $S(z, 1)$:"
   ]
  },
  {
   "cell_type": "code",
   "execution_count": 22,
   "id": "c7dc1e6e",
   "metadata": {},
   "outputs": [
    {
     "data": {
      "image/png": "[encoded data removed]",
      "text/latex": [
       "$\\displaystyle \\frac{- z^{4} - z^{2} \\sqrt{5 z^{4} - 6 z^{2} + 1} - 6 z^{2} - \\sqrt{5 z^{4} - 6 z^{2} + 1} + 7}{z^{4} - 2 z^{3} + z^{2} \\sqrt{5 z^{4} - 6 z^{2} + 1} + 4 z^{2} - 6 z + 3 \\sqrt{5 z^{4} - 6 z^{2} + 1} + 3}$"
      ],
      "text/plain": [
       "                    _________________             _________________          \n",
       "          4    2   ╱    4      2           2     ╱    4      2               \n",
       "       - z  - z ⋅╲╱  5⋅z  - 6⋅z  + 1  - 6⋅z  - ╲╱  5⋅z  - 6⋅z  + 1  + 7      \n",
       "─────────────────────────────────────────────────────────────────────────────\n",
       "                  _________________                     _________________    \n",
       " 4      3    2   ╱    4      2           2             ╱    4      2         \n",
       "z  - 2⋅z  + z ⋅╲╱  5⋅z  - 6⋅z  + 1  + 4⋅z  - 6⋅z + 3⋅╲╱  5⋅z  - 6⋅z  + 1  + 3"
      ]
     },
     "execution_count": 22,
     "metadata": {},
     "output_type": "execute_result"
    }
   ],
   "source": [
    "S = S.subs([(u, 1),(g0, eq_g0),(r1, eq_r1),(r2, eq_r2)])\n",
    "S = simplify(S)\n",
    "S"
   ]
  },
  {
   "cell_type": "markdown",
   "id": "72c10965",
   "metadata": {},
   "source": [
    "La sequenza di coefficienti associata è:"
   ]
  },
  {
   "cell_type": "code",
   "execution_count": 23,
   "id": "bb8ae72c",
   "metadata": {},
   "outputs": [
    {
     "data": {
      "image/png": "[encoded data removed]",
      "text/latex": [
       "$\\displaystyle 1 + t + t^{2} + 2 t^{3} + 5 t^{4} + 8 t^{5} + 18 t^{6} + 31 t^{7} + 71 t^{8} + 126 t^{9} + 290 t^{10} + 527 t^{11} + 1218 t^{12} + 2253 t^{13} + 5223 t^{14} + 9796 t^{15} + 22763 t^{16} + 43170 t^{17} + 100502 t^{18} + 192347 t^{19} + O\\left(t^{20}\\right)$"
      ],
      "text/plain": [
       "         2      3      4      5       6       7       8        9        10    \n",
       "1 + t + t  + 2⋅t  + 5⋅t  + 8⋅t  + 18⋅t  + 31⋅t  + 71⋅t  + 126⋅t  + 290⋅t   + 5\n",
       "\n",
       "    11         12         13         14         15          16          17    \n",
       "27⋅t   + 1218⋅t   + 2253⋅t   + 5223⋅t   + 9796⋅t   + 22763⋅t   + 43170⋅t   + 1\n",
       "\n",
       "       18           19    ⎛ 20⎞\n",
       "00502⋅t   + 192347⋅t   + O⎝t  ⎠"
      ]
     },
     "execution_count": 23,
     "metadata": {},
     "output_type": "execute_result"
    }
   ],
   "source": [
    "Serie_S = S.subs(z,t)\n",
    "series(Serie_S,t,0,20) "
   ]
  },
  {
   "cell_type": "markdown",
   "id": "d5122386",
   "metadata": {},
   "source": [
    "La funzione ricavata $S(z,1)$ si presenta in modo differente da quella riportata sull'articolo, ma poiché i risultati sono i medesimi e le operazioni svolte le stesse, possiamo concluderne la correttezza."
   ]
  },
  {
   "cell_type": "markdown",
   "id": "a7c282c1",
   "metadata": {},
   "source": [
    "## Leggendo i percorsi decorati da destra a sinistra"
   ]
  },
  {
   "cell_type": "markdown",
   "id": "8fc882af",
   "metadata": {},
   "source": [
    "Utilizzando le ricorsioni successivamente elencate:\n",
    "\n",
    "$$a_{i+1} = za_{i} + zb_{i} + zc_{i}, \\; con \\; i\\ge0, \\; inoltre \\; a_{0} = 1$$\n",
    "\n",
    "$$b_{i} = za_{i+1} + zb_{i+1}, \\; con \\; i\\ge1, \\; inoltre \\; b_{0} = zb_{1}$$\n",
    "\n",
    "$$c_{i+1} = za_{i} + zc_{i}, \\; con \\; i\\ge0$$\n",
    "\n",
    "E le seguenti funzioni generatrici:\n",
    "\n",
    "$$A(z,u) = \\sum_{i\\ge0}a_{i}(z)u^{i}\\,, \\; B(z,u) = \\sum_{i\\ge0}b_{i}(z)u^{i}\\,, \\; C(z,u) = \\sum_{i\\ge0}c_{i}(z)u^{i}$$\n",
    "\n",
    "Si ottengono le relazioni:\n",
    "\n",
    "$$A(z,u) = 1 + uzA(z,u) + uzB(z,u) + uzC(z,u)$$\n",
    "\n",
    "$$B(z,u) = \\frac{z}{u}(A(z,u) - a_{0} - ua_{1}) + \\frac{z}{u}(B(z,u) - b_{0})$$\n",
    "\n",
    "$$C(z,u) - c_{0} = uzA(z,u) + uzC(z,u)$$\n",
    "\n",
    "$$con \\; c_{0} = 0, \\; a_{0} = 1, \\; a_{1} = z + zb_{0}$$"
   ]
  },
  {
   "cell_type": "markdown",
   "id": "501c1b89",
   "metadata": {},
   "source": [
    "Definiamo le funzioni e i simboli che andremo ad utilizzare:"
   ]
  },
  {
   "cell_type": "code",
   "execution_count": 24,
   "id": "ddc1ef4e-b562-411a-af1f-79813cd7b208",
   "metadata": {},
   "outputs": [],
   "source": [
    "B = Function('B')(z,u)\n",
    "A = Function('A')(z,u)\n",
    "C = Function('C')(z,u)\n",
    "c0,a0,a1,b0, r1_B, r2_B = symbols(\"c0,a0,a1,b0, r1, r2\")"
   ]
  },
  {
   "cell_type": "markdown",
   "id": "7562e0a1",
   "metadata": {},
   "source": [
    "Le condizioni iniziali:"
   ]
  },
  {
   "cell_type": "code",
   "execution_count": 25,
   "id": "fe5bc19e",
   "metadata": {},
   "outputs": [],
   "source": [
    "c0 = 0\n",
    "a0 = 1\n",
    "a1 = z + z*b0"
   ]
  },
  {
   "cell_type": "markdown",
   "id": "89dc3efc",
   "metadata": {},
   "source": [
    "Dall' equazione \n",
    "\n",
    "$$C(u)-c_0 = uzA(u) + uzC(u)$$\n",
    "\n",
    "dovremmo ricavare:\n",
    "\n",
    "$$ C(u) = \\frac{uzA(u)}{1 - uz}$$\n",
    "\n",
    "Osservando che il $-1$ del denominatore viene raccolto e moltiplicato all'intera frazione, otteniamo il risultato aspettato:"
   ]
  },
  {
   "cell_type": "code",
   "execution_count": 26,
   "id": "7cc177e2",
   "metadata": {},
   "outputs": [
    {
     "data": {
      "image/png": "[encoded data removed]",
      "text/latex": [
       "$\\displaystyle C{\\left(z,u \\right)} = - \\frac{u z A{\\left(z,u \\right)}}{u z - 1}$"
      ],
      "text/plain": [
       "          -u⋅z⋅A(z, u) \n",
       "C(z, u) = ─────────────\n",
       "             u⋅z - 1   "
      ]
     },
     "execution_count": 26,
     "metadata": {},
     "output_type": "execute_result"
    }
   ],
   "source": [
    "eq_C = u*z*A + u*z*C + c0 - C\n",
    "func_C = solve(eq_C, C)\n",
    "Eq(C, func_C[0])"
   ]
  },
  {
   "cell_type": "markdown",
   "id": "500ca00d",
   "metadata": {},
   "source": [
    "Dall' equazione \n",
    "\n",
    "$$A(u) = 1 + uzA(u) + uzB(u) + uzC(u)$$\n",
    "\n",
    "dovremmo ricavare:\n",
    "\n",
    "$$A(u) = \\frac{(1-uz)(1+uzB(u)}{1-2uz}$$\n"
   ]
  },
  {
   "cell_type": "code",
   "execution_count": 27,
   "id": "d5865e80",
   "metadata": {},
   "outputs": [
    {
     "data": {
      "image/png": "[encoded data removed]",
      "text/latex": [
       "$\\displaystyle A{\\left(z,u \\right)} = \\frac{u^{2} z^{2} B{\\left(z,u \\right)} - u z B{\\left(z,u \\right)} + u z - 1}{2 u z - 1}$"
      ],
      "text/plain": [
       "           2  2                                \n",
       "          u ⋅z ⋅B(z, u) - u⋅z⋅B(z, u) + u⋅z - 1\n",
       "A(z, u) = ─────────────────────────────────────\n",
       "                        2⋅u⋅z - 1              "
      ]
     },
     "execution_count": 27,
     "metadata": {},
     "output_type": "execute_result"
    }
   ],
   "source": [
    "eq_A = (1 + u*z*A + u*z*B + u*z*C - A).subs(C, func_C[0])\n",
    "func_A = together(solve(eq_A, A))\n",
    "Eq(A, func_A[0])"
   ]
  },
  {
   "cell_type": "markdown",
   "id": "e33b2730",
   "metadata": {},
   "source": [
    "Dall'equazione \n",
    "\n",
    "$$B(u) = \\frac{z}{u}(A(u) - a_0 - ua_1) + \\frac{z}{u}(B(u) - b_0)$$\n",
    "\n",
    "dovremmo ricavare:\n",
    "\n",
    "$$B(u) = \\frac{zu(2u^{2}z^{2}+ 2u^{2}z^{2}b_0+ b_0u-b_0)}{z(z^{2}-2)(u-r_1^{-1})(u-r_2^{-1})}$$"
   ]
  },
  {
   "cell_type": "code",
   "execution_count": 28,
   "id": "ae1b76f6",
   "metadata": {},
   "outputs": [
    {
     "data": {
      "image/png": "[encoded data removed]",
      "text/latex": [
       "$\\displaystyle B{\\left(z,u \\right)} = \\frac{z \\left(2 b_{0} u^{2} z^{2} + b_{0} u z - b_{0} + 2 u^{2} z^{2}\\right)}{u^{2} z^{3} - 2 u^{2} z + u z^{2} + u - z}$"
      ],
      "text/plain": [
       "            ⎛      2  2                    2  2⎞\n",
       "          z⋅⎝2⋅b₀⋅u ⋅z  + b₀⋅u⋅z - b₀ + 2⋅u ⋅z ⎠\n",
       "B(z, u) = ──────────────────────────────────────\n",
       "               2  3      2        2             \n",
       "              u ⋅z  - 2⋅u ⋅z + u⋅z  + u - z     "
      ]
     },
     "execution_count": 28,
     "metadata": {},
     "output_type": "execute_result"
    }
   ],
   "source": [
    "eq_B = ((z/u)*(A - a0 - u*a1) + (z/u)*(B - b0) - B).subs(A, func_A[0])\n",
    "func_B = solve(eq_B, B)\n",
    "Eq(B, func_B[0]) "
   ]
  },
  {
   "cell_type": "markdown",
   "id": "409ba1ea",
   "metadata": {},
   "source": [
    "Ricaviamo dal denominatore di $B(u)$ i valori di $r_1$ e $r_2$:"
   ]
  },
  {
   "cell_type": "code",
   "execution_count": 29,
   "id": "3bd47086",
   "metadata": {},
   "outputs": [
    {
     "data": {
      "image/png": "[encoded data removed]",
      "text/latex": [
       "$\\displaystyle \\left( \\frac{- z^{2} + \\sqrt{5 z^{4} - 6 z^{2} + 1} - 1}{2 z \\left(z^{2} - 2\\right)}, \\  \\frac{- z^{2} - \\sqrt{5 z^{4} - 6 z^{2} + 1} - 1}{2 z \\left(z^{2} - 2\\right)}\\right)$"
      ],
      "text/plain": [
       "⎛          _________________                _________________    ⎞\n",
       "⎜   2     ╱    4      2              2     ╱    4      2         ⎟\n",
       "⎜- z  + ╲╱  5⋅z  - 6⋅z  + 1  - 1  - z  - ╲╱  5⋅z  - 6⋅z  + 1  - 1⎟\n",
       "⎜───────────────────────────────, ───────────────────────────────⎟\n",
       "⎜              ⎛ 2    ⎞                         ⎛ 2    ⎞         ⎟\n",
       "⎝          2⋅z⋅⎝z  - 2⎠                     2⋅z⋅⎝z  - 2⎠         ⎠"
      ]
     },
     "execution_count": 29,
     "metadata": {},
     "output_type": "execute_result"
    }
   ],
   "source": [
    "num_B,dem_B = fraction(func_B[0])\n",
    "Temp_dem_B = solve(dem_B,u)\n",
    "Temp_dem_B[1], Temp_dem_B[0]"
   ]
  },
  {
   "cell_type": "markdown",
   "id": "bfe81425",
   "metadata": {},
   "source": [
    "Riscriviamo $B(u)$ con i valori trovati:"
   ]
  },
  {
   "cell_type": "code",
   "execution_count": 30,
   "id": "81fb34a6",
   "metadata": {},
   "outputs": [
    {
     "data": {
      "image/png": "[encoded data removed]",
      "text/latex": [
       "$\\displaystyle B{\\left(z,u \\right)} = \\frac{2 b_{0} u^{2} z^{2} + b_{0} u z - b_{0} + 2 u^{2} z^{2}}{\\left(u - \\frac{2 z}{z^{2} - \\sqrt{5 z^{4} - 6 z^{2} + 1} + 1}\\right) \\left(u - \\frac{2 z}{z^{2} + \\sqrt{5 z^{4} - 6 z^{2} + 1} + 1}\\right) \\left(z^{2} - 2\\right)}$"
      ],
      "text/plain": [
       "                                       2  2                    2  2           \n",
       "                                 2⋅b₀⋅u ⋅z  + b₀⋅u⋅z - b₀ + 2⋅u ⋅z            \n",
       "B(z, u) = ────────────────────────────────────────────────────────────────────\n",
       "          ⎛                 2⋅z             ⎞ ⎛                 2⋅z           \n",
       "          ⎜u - ─────────────────────────────⎟⋅⎜u - ───────────────────────────\n",
       "          ⎜            _________________    ⎟ ⎜            _________________  \n",
       "          ⎜     2     ╱    4      2         ⎟ ⎜     2     ╱    4      2       \n",
       "          ⎝    z  - ╲╱  5⋅z  - 6⋅z  + 1  + 1⎠ ⎝    z  + ╲╱  5⋅z  - 6⋅z  + 1  +\n",
       "\n",
       "            \n",
       "            \n",
       "────────────\n",
       "  ⎞ ⎛ 2    ⎞\n",
       "──⎟⋅⎝z  - 2⎠\n",
       "  ⎟         \n",
       "  ⎟         \n",
       " 1⎠         "
      ]
     },
     "execution_count": 30,
     "metadata": {},
     "output_type": "execute_result"
    }
   ],
   "source": [
    "func_B = num_B/(z*((z**2)-2)*(u - (eq_r1**-1))*(u - (eq_r2**-1))) \n",
    "eq_B = Eq(B, func_B)\n",
    "eq_B"
   ]
  },
  {
   "cell_type": "markdown",
   "id": "afce034f",
   "metadata": {},
   "source": [
    "Cancelliamo il fattore $$(u - r_{1}^{-1})$$ ottenendo così:"
   ]
  },
  {
   "cell_type": "code",
   "execution_count": 31,
   "id": "e46dba78",
   "metadata": {},
   "outputs": [
    {
     "data": {
      "image/png": "[encoded data removed]",
      "text/latex": [
       "$\\displaystyle B{\\left(z,u \\right)} = \\frac{r_{2} z \\left(2 b_{0} r_{1} u z + b_{0} r_{1} + 2 b_{0} z + 2 r_{1} u z + 2 z\\right)}{r_{1} \\left(z^{2} - 2\\right) \\left(r_{2} u - 1\\right)}$"
      ],
      "text/plain": [
       "          r₂⋅z⋅(2⋅b₀⋅r₁⋅u⋅z + b₀⋅r₁ + 2⋅b₀⋅z + 2⋅r₁⋅u⋅z + 2⋅z)\n",
       "B(z, u) = ────────────────────────────────────────────────────\n",
       "                            ⎛ 2    ⎞                          \n",
       "                         r₁⋅⎝z  - 2⎠⋅(r₂⋅u - 1)               "
      ]
     },
     "execution_count": 31,
     "metadata": {},
     "output_type": "execute_result"
    }
   ],
   "source": [
    "eq_B = (z*(2*r1*u*z + 2*r1*u*z*b0 + b0*r1 +2*z +2*z*b0)*r2)/(r1*((z**2) - 2)*(u*r2 - 1))\n",
    "Eq(B, eq_B )"
   ]
  },
  {
   "cell_type": "markdown",
   "id": "07413ca9",
   "metadata": {},
   "source": [
    "Poniamo $$u = 0$$"
   ]
  },
  {
   "cell_type": "markdown",
   "id": "e30407c3",
   "metadata": {},
   "source": [
    "e ricaviamo $b_0$:"
   ]
  },
  {
   "cell_type": "code",
   "execution_count": 32,
   "id": "8dd19847",
   "metadata": {},
   "outputs": [
    {
     "data": {
      "image/png": "[encoded data removed]",
      "text/latex": [
       "$\\displaystyle b_{0} = B{\\left(z,0 \\right)} = - \\frac{r_{2} z \\left(b_{0} r_{1} + 2 b_{0} z + 2 z\\right)}{r_{1} \\left(z^{2} - 2\\right)}$"
      ],
      "text/plain": [
       "               -r₂⋅z⋅(b₀⋅r₁ + 2⋅b₀⋅z + 2⋅z) \n",
       "b₀ = B(z, 0) = ─────────────────────────────\n",
       "                           ⎛ 2    ⎞         \n",
       "                        r₁⋅⎝z  - 2⎠         "
      ]
     },
     "execution_count": 32,
     "metadata": {},
     "output_type": "execute_result"
    }
   ],
   "source": [
    "Eq(b0, (Eq(B, eq_B )).subs(u,0))"
   ]
  },
  {
   "cell_type": "code",
   "execution_count": 33,
   "id": "4c1536c7",
   "metadata": {},
   "outputs": [
    {
     "data": {
      "image/png": "[encoded data removed]",
      "text/latex": [
       "$\\displaystyle b_{0} = -1 + \\frac{- z^{4} - \\sqrt{5 z^{4} - 6 z^{2} + 1} + 1}{z^{2} \\left(z^{2} + 3\\right)}$"
      ],
      "text/plain": [
       "                    _________________    \n",
       "             4     ╱    4      2         \n",
       "          - z  - ╲╱  5⋅z  - 6⋅z  + 1  + 1\n",
       "b₀ = -1 + ───────────────────────────────\n",
       "                     2 ⎛ 2    ⎞          \n",
       "                    z ⋅⎝z  + 3⎠          "
      ]
     },
     "execution_count": 33,
     "metadata": {},
     "output_type": "execute_result"
    }
   ],
   "source": [
    "eq_b0= (1 - z**4 - sqrt(1 - 6*z**2 + 5*z**4))/(z**2*(3+z**2)) -1\n",
    "Eq( b0 ,  eq_b0 )"
   ]
  },
  {
   "cell_type": "markdown",
   "id": "9b425b43",
   "metadata": {},
   "source": [
    "## Teorema 2"
   ]
  },
  {
   "cell_type": "markdown",
   "id": "7b6f0b3e",
   "metadata": {},
   "source": [
    "Le tre funzioni generatrici bivariate che descrivono i percorsi decorati (modello duale) che terminano nei tre rispettivi strati sono date da:\n",
    "\n",
    "$$B = \\frac{z(2r_1uz + 2r_1uzb_0 + b_0r_1 + 2z + 2zb_0)r_2}{r1(z^{2} − 2)(ur_2 − 1)}$$\n",
    "\n",
    "$$ A(u) = \\frac{1-uz(1 + uzB(u))}{1-2uz}$$\n",
    "\n",
    "$$ C(u) = \\frac{uz(1 + uzB(u))}{1-2uz}$$"
   ]
  },
  {
   "cell_type": "markdown",
   "id": "57152a73-409d-49b0-9cc8-794402cd092c",
   "metadata": {},
   "source": [
    "#### Open-Ended Dual Paths"
   ]
  },
  {
   "cell_type": "markdown",
   "id": "9a7f6b79-6a01-4517-98da-0f30988b1127",
   "metadata": {},
   "source": [
    "Dato il Teorema 2, dobbiamo trovare la funzione generatrice per la sequenza degli Open-Ended Skew Dyck Paths.\n",
    "\n",
    "Come specificato nell'articolo, il modello di questi cammini Open-Ended è enumerato dall'espressione $A(z,1) + B(z,1) + C(z,1)$ che utilizza le funzioni $A$, $B$ e $C$ descritte precedentemente nel Teorema 2."
   ]
  },
  {
   "cell_type": "markdown",
   "id": "4075c0be",
   "metadata": {},
   "source": [
    "Sostituiamo $$u=1$$ nelle funzioni:"
   ]
  },
  {
   "cell_type": "code",
   "execution_count": 34,
   "id": "0328407d",
   "metadata": {
    "scrolled": true
   },
   "outputs": [
    {
     "data": {
      "image/png": "[encoded data removed]",
      "text/latex": [
       "$\\displaystyle \\frac{- 4 z^{5} - 2 z^{4} - 2 z^{2} \\sqrt{5 z^{4} - 6 z^{2} + 1} - 10 z^{2} - 4 z \\sqrt{5 z^{4} - 6 z^{2} + 1} + 4 z - 4 \\sqrt{5 z^{4} - 6 z^{2} + 1} + 4}{2 z^{5} + z^{4} + 2 z^{3} + z^{2} \\sqrt{5 z^{4} - 6 z^{2} + 1} + 4 z^{2} - 12 z + 3 \\sqrt{5 z^{4} - 6 z^{2} + 1} + 3}$"
      ],
      "text/plain": [
       "                        _________________                  _________________  \n",
       "     5      4      2   ╱    4      2            2         ╱    4      2       \n",
       "- 4⋅z  - 2⋅z  - 2⋅z ⋅╲╱  5⋅z  - 6⋅z  + 1  - 10⋅z  - 4⋅z⋅╲╱  5⋅z  - 6⋅z  + 1  +\n",
       "──────────────────────────────────────────────────────────────────────────────\n",
       "                                      _________________                      _\n",
       "                5    4      3    2   ╱    4      2           2              ╱ \n",
       "             2⋅z  + z  + 2⋅z  + z ⋅╲╱  5⋅z  - 6⋅z  + 1  + 4⋅z  - 12⋅z + 3⋅╲╱  \n",
       "\n",
       "            _________________    \n",
       "           ╱    4      2         \n",
       " 4⋅z - 4⋅╲╱  5⋅z  - 6⋅z  + 1  + 4\n",
       "─────────────────────────────────\n",
       "________________                 \n",
       "   4      2                      \n",
       "5⋅z  - 6⋅z  + 1  + 3             "
      ]
     },
     "execution_count": 34,
     "metadata": {},
     "output_type": "execute_result"
    }
   ],
   "source": [
    "T2_B = cancel(eq_B.subs([(b0, eq_b0), (u,1), (r1, eq_r1), (r2, eq_r2)]))\n",
    "T2_B"
   ]
  },
  {
   "cell_type": "code",
   "execution_count": 35,
   "id": "24b56257",
   "metadata": {},
   "outputs": [
    {
     "data": {
      "image/png": "[encoded data removed]",
      "text/latex": [
       "$\\displaystyle \\frac{- 2 z^{6} + z^{5} + z^{4} - z^{3} \\sqrt{5 z^{4} - 6 z^{2} + 1} - 4 z^{3} - z^{2} \\sqrt{5 z^{4} - 6 z^{2} + 1} + 6 z^{2} - z \\sqrt{5 z^{4} - 6 z^{2} + 1} - 5 z + 3 \\sqrt{5 z^{4} - 6 z^{2} + 1} + 3}{2 z^{5} + z^{4} + 2 z^{3} + z^{2} \\sqrt{5 z^{4} - 6 z^{2} + 1} + 4 z^{2} - 12 z + 3 \\sqrt{5 z^{4} - 6 z^{2} + 1} + 3}$"
      ],
      "text/plain": [
       "                         _________________                _________________   \n",
       "     6    5    4    3   ╱    4      2           3    2   ╱    4      2        \n",
       "- 2⋅z  + z  + z  - z ⋅╲╱  5⋅z  - 6⋅z  + 1  - 4⋅z  - z ⋅╲╱  5⋅z  - 6⋅z  + 1  + \n",
       "──────────────────────────────────────────────────────────────────────────────\n",
       "                                                     _________________        \n",
       "                               5    4      3    2   ╱    4      2           2 \n",
       "                            2⋅z  + z  + 2⋅z  + z ⋅╲╱  5⋅z  - 6⋅z  + 1  + 4⋅z  \n",
       "\n",
       "            _________________              _________________    \n",
       "   2       ╱    4      2                  ╱    4      2         \n",
       "6⋅z  - z⋅╲╱  5⋅z  - 6⋅z  + 1  - 5⋅z + 3⋅╲╱  5⋅z  - 6⋅z  + 1  + 3\n",
       "────────────────────────────────────────────────────────────────\n",
       "              _________________                                 \n",
       "             ╱    4      2                                      \n",
       "- 12⋅z + 3⋅╲╱  5⋅z  - 6⋅z  + 1  + 3                             "
      ]
     },
     "execution_count": 35,
     "metadata": {},
     "output_type": "execute_result"
    }
   ],
   "source": [
    "T2_A = cancel(func_A[0].subs([(B, T2_B),(u, 1)]))\n",
    "T2_A"
   ]
  },
  {
   "cell_type": "code",
   "execution_count": 36,
   "id": "8eba39d3",
   "metadata": {},
   "outputs": [
    {
     "data": {
      "image/png": "[encoded data removed]",
      "text/latex": [
       "$\\displaystyle \\frac{2 z^{6} + z^{5} + z^{3} \\sqrt{5 z^{4} - 6 z^{2} + 1} + 4 z^{3} + 2 z^{2} \\sqrt{5 z^{4} - 6 z^{2} + 1} - 2 z^{2} + 3 z \\sqrt{5 z^{4} - 6 z^{2} + 1} + 3 z}{2 z^{5} + z^{4} + 2 z^{3} + z^{2} \\sqrt{5 z^{4} - 6 z^{2} + 1} + 4 z^{2} - 12 z + 3 \\sqrt{5 z^{4} - 6 z^{2} + 1} + 3}$"
      ],
      "text/plain": [
       "                  _________________                  _________________        \n",
       "   6    5    3   ╱    4      2           3      2   ╱    4      2           2 \n",
       "2⋅z  + z  + z ⋅╲╱  5⋅z  - 6⋅z  + 1  + 4⋅z  + 2⋅z ⋅╲╱  5⋅z  - 6⋅z  + 1  - 2⋅z  \n",
       "──────────────────────────────────────────────────────────────────────────────\n",
       "                                     _________________                      __\n",
       "               5    4      3    2   ╱    4      2           2              ╱  \n",
       "            2⋅z  + z  + 2⋅z  + z ⋅╲╱  5⋅z  - 6⋅z  + 1  + 4⋅z  - 12⋅z + 3⋅╲╱  5\n",
       "\n",
       "         _________________      \n",
       "        ╱    4      2           \n",
       "+ 3⋅z⋅╲╱  5⋅z  - 6⋅z  + 1  + 3⋅z\n",
       "────────────────────────────────\n",
       "_______________                 \n",
       "  4      2                      \n",
       "⋅z  - 6⋅z  + 1  + 3             "
      ]
     },
     "execution_count": 36,
     "metadata": {},
     "output_type": "execute_result"
    }
   ],
   "source": [
    "T2_C = cancel(func_C[0].subs([(A, T2_A),(u, 1),]))\n",
    "T2_C"
   ]
  },
  {
   "cell_type": "markdown",
   "id": "1efadbbc-4333-4c00-8457-39e852d6b6d6",
   "metadata": {},
   "source": [
    "Ottenendo così la seguente funzione generatrice:"
   ]
  },
  {
   "cell_type": "code",
   "execution_count": 37,
   "id": "0093df77",
   "metadata": {},
   "outputs": [
    {
     "data": {
      "image/png": "[encoded data removed]",
      "text/latex": [
       "$\\displaystyle \\frac{- 2 z^{5} - z^{4} - z^{2} \\sqrt{5 z^{4} - 6 z^{2} + 1} - 6 z^{2} - 2 z \\sqrt{5 z^{4} - 6 z^{2} + 1} + 2 z - \\sqrt{5 z^{4} - 6 z^{2} + 1} + 7}{2 z^{5} + z^{4} + 2 z^{3} + z^{2} \\sqrt{5 z^{4} - 6 z^{2} + 1} + 4 z^{2} - 12 z + 3 \\sqrt{5 z^{4} - 6 z^{2} + 1} + 3}$"
      ],
      "text/plain": [
       "                    _________________                 _________________       \n",
       "     5    4    2   ╱    4      2           2         ╱    4      2            \n",
       "- 2⋅z  - z  - z ⋅╲╱  5⋅z  - 6⋅z  + 1  - 6⋅z  - 2⋅z⋅╲╱  5⋅z  - 6⋅z  + 1  + 2⋅z \n",
       "──────────────────────────────────────────────────────────────────────────────\n",
       "                                  _________________                      _____\n",
       "            5    4      3    2   ╱    4      2           2              ╱    4\n",
       "         2⋅z  + z  + 2⋅z  + z ⋅╲╱  5⋅z  - 6⋅z  + 1  + 4⋅z  - 12⋅z + 3⋅╲╱  5⋅z \n",
       "\n",
       "     _________________    \n",
       "    ╱    4      2         \n",
       "- ╲╱  5⋅z  - 6⋅z  + 1  + 7\n",
       "──────────────────────────\n",
       "____________              \n",
       "      2                   \n",
       " - 6⋅z  + 1  + 3          "
      ]
     },
     "execution_count": 37,
     "metadata": {},
     "output_type": "execute_result"
    }
   ],
   "source": [
    "T = Function('T')(u)\n",
    "T = cancel(T2_B + T2_C + T2_A)\n",
    "T"
   ]
  },
  {
   "cell_type": "markdown",
   "id": "820e99a7-adb9-4164-858b-c4d36440b5f5",
   "metadata": {},
   "source": [
    "Calcolando i coefficienti associati alla funzione generatrice ricavata, otteniamo una sequenza uguale a quella mostrata nell'articolo:"
   ]
  },
  {
   "cell_type": "code",
   "execution_count": 38,
   "id": "68874e12",
   "metadata": {},
   "outputs": [
    {
     "data": {
      "image/png": "[encoded data removed]",
      "text/latex": [
       "$\\displaystyle 1 + 2 t + 4 t^{2} + 10 t^{3} + 24 t^{4} + 56 t^{5} + 134 t^{6} + 318 t^{7} + 764 t^{8} + 1824 t^{9} + 4390 t^{10} + 10520 t^{11} + 25346 t^{12} + 60878 t^{13} + 146768 t^{14} + O\\left(t^{15}\\right)$"
      ],
      "text/plain": [
       "             2       3       4       5        6        7        8         9   \n",
       "1 + 2⋅t + 4⋅t  + 10⋅t  + 24⋅t  + 56⋅t  + 134⋅t  + 318⋅t  + 764⋅t  + 1824⋅t  + \n",
       "\n",
       "      10          11          12          13           14    ⎛ 15⎞\n",
       "4390⋅t   + 10520⋅t   + 25346⋅t   + 60878⋅t   + 146768⋅t   + O⎝t  ⎠"
      ]
     },
     "execution_count": 38,
     "metadata": {},
     "output_type": "execute_result"
    }
   ],
   "source": [
    "Serie_T = T.subs(z,t)\n",
    "series(Serie_T,t,0,15) "
   ]
  },
  {
   "cell_type": "markdown",
   "id": "eabdb765",
   "metadata": {},
   "source": [
    "## Prove di correttezza ulteriori"
   ]
  },
  {
   "cell_type": "code",
   "execution_count": 39,
   "id": "477100c5",
   "metadata": {},
   "outputs": [],
   "source": [
    "import matplotlib.pyplot as plt\n",
    "from random import seed\n",
    "from random import randint\n",
    "\n",
    "seed(1)\n",
    "\n",
    "a, b, c = symbols(\"a,b,c\")\n",
    "\n",
    "a = \"a\"\n",
    "b = \"b\"\n",
    "c = \"c\""
   ]
  },
  {
   "cell_type": "code",
   "execution_count": 40,
   "id": "21363be6",
   "metadata": {},
   "outputs": [
    {
     "data": {
      "image/png": "[encoded data removed]",
      "text/plain": [
       "<Figure size 640x480 with 1 Axes>"
      ]
     },
     "metadata": {},
     "output_type": "display_data"
    }
   ],
   "source": [
    "arr = [a,a,b,a,a,b,c,b]\n",
    "plt.xlim(0, len(arr) + 1)\n",
    "plt.ylim(0, len(arr) + 1)\n",
    "plt.grid()\n",
    "\n",
    "i = 0\n",
    "\n",
    "x = 0\n",
    "y = 0\n",
    "while i < len(arr):\n",
    "    if(arr[i] == \"a\"):\n",
    "        x = x + 1\n",
    "        y = y + 1\n",
    "        plt.plot([x - 1,x], [y - 1,y], color=\"black\", marker=\"o\")\n",
    "    if(arr[i] == \"b\"):\n",
    "        x = x + 1\n",
    "        y = y - 1\n",
    "        plt.plot([x - 1,x], [y + 1,y], color=\"black\", marker=\"o\")\n",
    "    if(arr[i] == \"c\"):\n",
    "        x = x + 1\n",
    "        y = y - 1\n",
    "        plt.plot([x - 1,x], [y + 1,y], color=\"red\", marker=\"o\")\n",
    "    i = i + 1"
   ]
  },
  {
   "cell_type": "code",
   "execution_count": 41,
   "id": "36bd8ce2",
   "metadata": {},
   "outputs": [
    {
     "data": {
      "image/png": "[encoded data removed]",
      "text/plain": [
       "<Figure size 640x480 with 1 Axes>"
      ]
     },
     "metadata": {},
     "output_type": "display_data"
    }
   ],
   "source": [
    "i = 0\n",
    "arr = [a,a,a,a,b,c,b,c,a,a,a,a,]\n",
    "\n",
    "plt.xlim(0, len(arr) + 1)\n",
    "plt.ylim(0, len(arr) + 1)\n",
    "plt.grid()\n",
    "x = 0\n",
    "y = 0\n",
    "\n",
    "while i < len(arr):\n",
    "    if(arr[i] == \"a\"):\n",
    "        x = x + 1\n",
    "        y = y + 1\n",
    "        plt.plot([x - 1,x], [y - 1,y], color=\"black\", marker=\"o\")\n",
    "    if(arr[i] == \"b\"):\n",
    "        x = x + 1\n",
    "        y = y - 1\n",
    "        plt.plot([x - 1,x], [y + 1,y], color=\"black\", marker=\"o\")\n",
    "    if(arr[i] == \"c\"):\n",
    "        x = x + 1\n",
    "        y = y - 1\n",
    "        plt.plot([x - 1,x], [y + 1,y], color=\"red\", marker=\"o\")\n",
    "    i = i + 1"
   ]
  },
  {
   "cell_type": "code",
   "execution_count": 42,
   "id": "82e74929-ea43-44eb-bea9-a7eeaae56f23",
   "metadata": {},
   "outputs": [
    {
     "data": {
      "text/plain": [
       "['a', 'a', 'a', 'a', 'b']"
      ]
     },
     "execution_count": 42,
     "metadata": {},
     "output_type": "execute_result"
    }
   ],
   "source": [
    "curr = 1\n",
    "prec = 0\n",
    "prep = 0\n",
    "level = 1\n",
    "prec_level = 0\n",
    "arr = [a]\n",
    "while curr != 0:\n",
    "    if(level == 1 and prec_level == 0):\n",
    "        curr = 1\n",
    "    elif(level == 0):\n",
    "        curr = 1\n",
    "    elif(len(arr) < 5 and prec == 1):\n",
    "        curr = randint(1,2)\n",
    "    elif(len(arr) < 5 and prec != 1):\n",
    "        curr = randint(1,3)\n",
    "    elif(prec == 1):\n",
    "        curr = randint(0,2)\n",
    "    else:\n",
    "        curr = randint(0,3)\n",
    "    if(curr == 3 and curr == prec and prec == prep):\n",
    "        curr = 0\n",
    "    if(curr == 1):\n",
    "        arr.append(a)\n",
    "        prec_level = level\n",
    "        level = level + 1\n",
    "    if(curr == 2):\n",
    "        arr.append(b)\n",
    "        prec_level = level\n",
    "        level = level - 1\n",
    "    if(curr == 3):\n",
    "        arr.append(c)\n",
    "        prec_level = level\n",
    "        level = level - 1\n",
    "    prep = prec\n",
    "    prec = curr\n",
    "    i = i + 1\n",
    "arr"
   ]
  },
  {
   "cell_type": "code",
   "execution_count": 43,
   "id": "0b6c9dd8",
   "metadata": {},
   "outputs": [
    {
     "data": {
      "image/png": "[encoded data removed]",
      "text/plain": [
       "<Figure size 640x480 with 1 Axes>"
      ]
     },
     "metadata": {},
     "output_type": "display_data"
    }
   ],
   "source": [
    "i = 0\n",
    "\n",
    "plt.xlim(0, len(arr) + 1)\n",
    "plt.ylim(0, len(arr) + 1)\n",
    "plt.grid()\n",
    "\n",
    "x = 0\n",
    "y = 0\n",
    "\n",
    "while i < len(arr):\n",
    "    if(arr[i] == \"a\"):\n",
    "        x = x + 1\n",
    "        y = y + 1\n",
    "        plt.plot([x - 1,x], [y - 1,y], color=\"black\", marker=\"o\")\n",
    "    if(arr[i] == \"b\"):\n",
    "        x = x + 1\n",
    "        y = y - 1\n",
    "        plt.plot([x - 1,x], [y + 1,y], color=\"black\", marker=\"o\")\n",
    "    if(arr[i] == \"c\"):\n",
    "        x = x + 1\n",
    "        y = y - 1\n",
    "        plt.plot([x - 1,x], [y + 1,y], color=\"red\", marker=\"o\")\n",
    "    i = i + 1"
   ]
  }
 ],
 "metadata": {
  "kernelspec": {
   "display_name": "Python 3 (ipykernel)",
   "language": "python",
   "name": "python3"
  },
  "language_info": {
   "codemirror_mode": {
    "name": "ipython",
    "version": 3
   },
   "file_extension": ".py",
   "mimetype": "text/x-python",
   "name": "python",
   "nbconvert_exporter": "python",
   "pygments_lexer": "ipython3",
   "version": "3.9.13"
  }
 },
 "nbformat": 4,
 "nbformat_minor": 5
}
